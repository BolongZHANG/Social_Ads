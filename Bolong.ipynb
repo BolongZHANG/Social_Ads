{
 "cells": [
  {
   "cell_type": "markdown",
   "metadata": {},
   "source": [
    "# <span style=\"color:#000080\"> Social Advertising Algorithm - Finding Potential Users </span>\n",
    "\n",
    "<br>\n",
    "\n",
    "***LIU Wenzhuo, SUN Wang, ZHANG Bolong, ZHANG Shangyuan***\n",
    "\n",
    "[M2 DataScience](https://datascience-x-master-paris-saclay.fr/) - [Université ParisScalay](https://www.universite-paris-saclay.fr)"
   ]
  },
  {
   "cell_type": "markdown",
   "metadata": {},
   "source": [
    "---\n",
    "## <span style=\"color:#000080\"> Table of Contents </span>\n",
    "### 1. Backgroud\n",
    "### 2. Task description\n",
    "### 3. Data description\n",
    "- 3.1 Data files\n",
    "- 3.2 Data desensitisation\n",
    "- 3.3 User Feature Description\n",
    "- 3.4 Ad Feature Description"
   ]
  },
  {
   "attachments": {},
   "cell_type": "markdown",
   "metadata": {},
   "source": [
    "## <span style=\"color:#000080\"> 1. Background </span>\n",
    "\n",
    "Social relationship-based advertising (i.e., social advertising) has become one of the fastest growing categories of advertising in the Internet advertising industry.\n",
    "\n",
    "Tencent Social Ads is the advertising arm of Chinese internet giant Tencent. Through the platform, it’s possible for clients to target users on Wechat (also known as Weixin), QQ and QZone, and other Tencent platforms. Advertisers claim to reach around 900 million users through Tencent in 2017.\n",
    "\n",
    "This challenge comes from a real advertising product in Tencent's social advertising business - Lookalike. The purpose of this product is to identify other users who are similar to the target users from a large number of people based on the target data provided by the advertiser. In the actual case, Lookalike can help advertisers find potential consumers similar to existing consumers based on the existing data of advertisers, which finally helps to explore new customers and expand their business.\n",
    "\n",
    "![](img/tencent.png)"
   ]
  },
  {
   "cell_type": "markdown",
   "metadata": {},
   "source": [
    "## <span style=\"color:#000080\"> 2. Task description </span>\n",
    "\n",
    "Lookalike automatically calculates a similar population (called an extended population) based on a seed population (also known as a seed package) provided by the advertiser.\n",
    "We will provide you with hundreds of seed populations, user features of a large number of candidate groups, and the advertisement features of the seed population. For the sake of business data security assurance, all data is desensitized data.\n",
    "\n",
    "The entire data set is divided into training set and test set. The training set calibrates the users who belong to the seed package and the users who do not (i.e., positive and negative samples). The test set will detect if your algorithm can accurately classify the users into corresponding seed package in the test set. The seed packages in the training set and the test set are identical.\n",
    "\n",
    "In order to test whether your algorithm can well understand the user and the seed population, you are required to provide the scores of candidate users belonging to each seed package in the test set (the higher the score, the more likely the candidate is a potential user of a package). For details, please refer to **[Evaluation Method]**\n"
   ]
  },
  {
   "cell_type": "markdown",
   "metadata": {},
   "source": [
    "## <span style=\"color:#000080\"> 3. Data description </span>\n",
    "\n",
    "### <span style=\"color:#000080\"> 3.1 Data files </span>\n",
    "\n",
    "The time range for the data (after desensitization) given by [Tencent](https://www.tencent.com/en-us/) is 30 consecutive days. In general, the data is divided into four files: a training set, a test set, a user dataset and an advertisement dataset.\n",
    "\n",
    "**[train.csv](https://drive.google.com/open?id=1JS5hIgYAkEF4SkRbP_MVTKTxJgytmlQW)** <br>\n",
    "Each row represents a training sample, separated by commas, in the format: \"aid, uid, label\". Among them, aid uniquely identifies an ad, and uid uniquely identifies a user. The value of the sample label is +1 or -1, where +1 is the seed user and -1 is the non-seed user. To simplify the problem, a seed package only corresponds to one ad aid, and the two are one-to-one correspondence.\n",
    "\n",
    "**[test.csv](https://drive.google.com/open?id=1j5FzFyx_vGO0t0W5Jq92i_ZZmuG5U1kS)** <br>\n",
    "Each row represents a test sample, separated by commas, in the format: \"aid, uid\". The field meaning is the same as the training set.\n",
    "\n",
    "**[test_truth.csv](https://drive.google.com/open?id=1LXxm_Qg8_wkuVCIlJmORtRTXgAHiZq-y)** <br>\n",
    "Test set with label.\n",
    "\n",
    "**[userFeature.csv](https://drive.google.com/open?id=1e0vc3mDqSB1yrWpvYxHdyflSZEaI9YFt)** <br>\n",
    "Each row represents a user's feature data in the format: “uid|features”, and uid and features are separated by a vertical bar “|”. The feature is in [vowpal wabbit](https://github.com/JohnLangford/vowpal_wabbit) format: \"feature_group1|feature_group2|feature_group3|...\". Each feature_group represents a feature group, and multiple feature groups are also separated by vertical bar \"|\". If a feature group includes multiple values, it is separated by spaces. The format is: \"feature_group_name fea_name1 fea_name2 ...\", where fea_name is in the format of data number. For details of user feature, see **[User Feature Description]**\n",
    "\n",
    "**[adFeature.csv](https://drive.google.com/open?id=1ife4Kh4x6Q9Uc4odGDaL6A35aNbFV8yi)** <br>\n",
    "The format is: \"aid, advertiserId, campaignId, creativeId, creativeSize, adCategoryId, productId, productType\". Among them, aid uniquely identifies an advertisement, and the remaining fields are advertisement features, and the fields are separated by commas. For details of the ad feature, see the **[Ad Feature Description]**.\n",
    "\n",
    "_In this challenge, we have already done a pre-processing of the data files for you. Now all the data is stored in training set and test set. You can get the data directly by calling the function, we will give a demonstration in the_ **[data analysis section]**\n"
   ]
  },
  {
   "cell_type": "markdown",
   "metadata": {},
   "source": [
    "### <span style=\"color:#000080\"> 3.2 Data desensitisation </span>\n",
    "\n",
    "For data security reasons, uid, aid, user feature and advertisement feature are encrypted as follows:\n",
    "\n",
    "**• uid**: Randomize the user ID and generate a non-repeating encrypted uid from 1 to N, where N is the total number of users (assuming the number of users is 100, all users are randomly scattered, and their serial numbers are used as uid , the value range is [1, 100]);\n",
    "\n",
    "**• aid**: Generate an encrypted aid referring to the encryption method of uid;\n",
    "\n",
    "**• user feature**: Generate the encrypted fea_name referring to the encryption method of uid;\n",
    "\n",
    "**• ad feature**: Generate encrypted fields referring to the encryption method of uid\n"
   ]
  },
  {
   "cell_type": "markdown",
   "metadata": {},
   "source": [
    "### <span style=\"color:#000080\"> 3.3 User Feature Description </span>\n",
    "\n",
    "User features include the following feature groups (feature_group_name), where we take 0 if the feature values are unknown:\n",
    "\n",
    "• Age **(age)**: Segmentation, each serial number represents an age segment\n",
    "\n",
    "• Gender **(gender)**: Male / Female\n",
    "\n",
    "• Marriage status **(marriageStatus)**: Single/Married status (multiple status can coexist)\n",
    "\n",
    "• Education **(education)**: PhD/Master/Bachelor/High School/Junior/Primary School\n",
    "\n",
    "• Consumption ability **(consumptionAbility)**: High / Low\n",
    "\n",
    "• Geographic location **(LBS)**: Each serial number represents a geographic location\n",
    "\n",
    "• Interest category **(interest)**: Five feature groups mined from different data sources, denoted by interest1, interest2, interest3, interest4, interest5, each interest feature group contains several interest IDs\n",
    "\n",
    "• Keyword **(keyword)**: User’s detailed preferences comparing to interest category. The three feature groups mined from different data sources are represented by kw1, kw2, kw3, and each keyword feature group contains several keywords the user interested in\n",
    "\n",
    "• Topic **(topic)**: User’s preferences mined using LDA. The three feature groups mined from different data sources are represented by topic1, topic2, topic3\n",
    "\n",
    "• APP recent installation behavior **(appIdInstall)**: APP installed within 63 days, each APP is represented by a unique ID\n",
    "\n",
    "• Active APP **(appIdAction)**: Active APP used by the user\n",
    "\n",
    "• Internet connection type **(ct)**: WIFI/2G/3G/4G\n",
    "\n",
    "• Operating system **(os)**: Android/IOS, regardless of version number\n",
    "\n",
    "• Mobile operator **(carrier)**: Mobile operator, Mobile / Unicom / Telecom / Other\n",
    "\n",
    "• House property **(house)**: Owning a house property or not"
   ]
  },
  {
   "cell_type": "markdown",
   "metadata": {},
   "source": [
    "### <span style=\"color:#000080\"> 3.4 Ad Feature Description </span>\n",
    "\n",
    "• Ad ID **(aid)**: Advertisement refers to the advertising creative and advertising display related settings created by the advertiser, including the basic information of an advertisement (name, delivery time, etc.), promotion target, delivery platform, specification, creative, bid, etc.\n",
    "\n",
    "• Advertiser ID **(advertiserId)**: The account structure has four levels: account – campaign plan - advertisement - creative, account and advertiser are one-to-one correspondence\n",
    "\n",
    "• Campaign plan ID **(campaignId)**: The campaign plan is a collection of advertisements (similar to a folder). Advertisers can place advertisements with the same conditions such as platform and budget in the same campaign plan for easy management\n",
    "\n",
    "• Creative ID **(creativeId)**: the content of the ad shown to the user. There can be multiple sets of creative under one ad.\n",
    "\n",
    "• Creative size **(creativeSize)**: the ceative size ID, which identifies the creative size\n",
    "\n",
    "• Ad category **(adCategoryId)**: the ad category ID, defined by ad classification system\n",
    "\n",
    "• Product ID **(productId)**: the promoted product ID, identified by the product id in the system\n",
    "\n",
    "• Product type **(productType)**: the type of product corresponding to the ad delivery target (e.g. JD.com - merchandise, app - download)"
   ]
  },
  {
   "cell_type": "code",
   "execution_count": null,
   "metadata": {},
   "outputs": [],
   "source": []
  }
 ],
 "metadata": {
  "kernelspec": {
   "display_name": "Python 3",
   "language": "python",
   "name": "python3"
  },
  "language_info": {
   "codemirror_mode": {
    "name": "ipython",
    "version": 3
   },
   "file_extension": ".py",
   "mimetype": "text/x-python",
   "name": "python",
   "nbconvert_exporter": "python",
   "pygments_lexer": "ipython3",
   "version": "3.6.7"
  }
 },
 "nbformat": 4,
 "nbformat_minor": 2
}
