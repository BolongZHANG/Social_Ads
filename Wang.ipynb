{
 "cells": [
  {
   "cell_type": "code",
   "execution_count": 1,
   "metadata": {},
   "outputs": [],
   "source": [
    "from problem import get_train_data, get_test_data"
   ]
  },
  {
   "cell_type": "code",
   "execution_count": 3,
   "metadata": {},
   "outputs": [],
   "source": [
    "X_train, y_train = get_train_data('..')\n",
    "X_test, y_test = get_test_data('..')"
   ]
  },
  {
   "cell_type": "markdown",
   "metadata": {},
   "source": [
    "### Evaluation"
   ]
  },
  {
   "cell_type": "markdown",
   "metadata": {},
   "source": [
    "For this binary classification, we can use several metrics frequently used. With the prediction of model, we can first compute a confusion matrix.\n",
    "\n",
    "|----------------------|Actual positive|Actual negative|\n",
    "|----------------------|---------------|---------------|\n",
    "|**Predicted positive**|True Positive (**TP**)|False Positive (**FP**)|\n",
    "|**Predicted negative**|False Negative (**FN**)|True Negative (**TN**)|\n",
    "\n",
    "Precision is the proportion of positive predictions that are correct while recall is the proportion of truth that correctly predicted as truth. They can be calculated with the following equations:\n",
    "\n",
    "#### <center> $Precision = \\frac{TP}{TP+FP}$, $Recall = \\frac{TP}{TP+FN}$\n",
    "\n",
    "Then we can compute **F1 score** with equation: \n",
    "\n",
    "#### <center> $f1 = \\frac{2 * Precision * Recall}{Precision + Recall}$\n",
    "    \n",
    "We can even compute f1 score for both two labels and compute their average weighted by their number of instances, which is denoted as **W_FScore** in our code.\n",
    "\n",
    "Apart from that, we can calculate the True Positive Rate (TPR) and the False Positive Rate (FPR) with the following equations:\n",
    "\n",
    "#### <center> $TPR = \\frac{TP}{TP+FN}$, $FPR = \\frac{FP}{TP+FP}$\n",
    "\n",
    "Then we can draw a Receiver Operating Characteristic (ROC) curve and compute the area under the curve (**AUC**) as a metric.\n",
    "\n",
    "Finally, we can use **Accuracy**, **Mean Absolute Error** and **Negative Log Likelihood** as additional metrics for a help."
   ]
  },
  {
   "cell_type": "code",
   "execution_count": null,
   "metadata": {},
   "outputs": [],
   "source": []
  },
  {
   "cell_type": "code",
   "execution_count": null,
   "metadata": {},
   "outputs": [],
   "source": []
  },
  {
   "cell_type": "code",
   "execution_count": null,
   "metadata": {},
   "outputs": [],
   "source": []
  },
  {
   "cell_type": "code",
   "execution_count": null,
   "metadata": {},
   "outputs": [],
   "source": []
  }
 ],
 "metadata": {
  "kernelspec": {
   "display_name": "Python 3",
   "language": "python",
   "name": "python3"
  },
  "language_info": {
   "codemirror_mode": {
    "name": "ipython",
    "version": 3
   },
   "file_extension": ".py",
   "mimetype": "text/x-python",
   "name": "python",
   "nbconvert_exporter": "python",
   "pygments_lexer": "ipython3",
   "version": "3.6.4"
  }
 },
 "nbformat": 4,
 "nbformat_minor": 2
}
